{
 "cells": [
  {
   "cell_type": "markdown",
   "source": [
    "Read the banking data"
   ],
   "metadata": {
    "collapsed": false
   },
   "id": "6b619445c25ec444"
  },
  {
   "cell_type": "code",
   "outputs": [],
   "source": [
    "import pandas as pd\n",
    "df = pd.read_csv('data/banking.csv')\n",
    "df.dtypes"
   ],
   "metadata": {
    "collapsed": false
   },
   "id": "79a8aa225c3dafb7",
   "execution_count": null
  },
  {
   "cell_type": "markdown",
   "source": [
    "Transform all categorical variables with one-hot-encoding"
   ],
   "metadata": {
    "collapsed": false
   },
   "id": "1911070a9e0d6ab6"
  },
  {
   "cell_type": "code",
   "outputs": [],
   "source": [
    "df = pd.get_dummies(df, columns=['day_of_week', 'job', 'marital', 'education', 'default', 'housing', 'loan', 'contact', 'month', 'poutcome'], drop_first=True)"
   ],
   "metadata": {
    "collapsed": false
   },
   "id": "d83d3e109470a15c",
   "execution_count": null
  },
  {
   "cell_type": "markdown",
   "source": [
    "Create training and test data"
   ],
   "metadata": {
    "collapsed": false
   },
   "id": "c1353c313510cceb"
  },
  {
   "cell_type": "code",
   "outputs": [],
   "source": [
    "from sklearn.model_selection import train_test_split\n",
    "\n",
    "X = df.drop('y', axis=1)\n",
    "y = df['y']\n",
    "X_train, X_test, y_train, y_test = train_test_split(X, y, test_size=0.2, random_state=42)"
   ],
   "metadata": {
    "collapsed": false
   },
   "id": "c107d13ad955cb3e",
   "execution_count": null
  },
  {
   "cell_type": "markdown",
   "source": [
    "Create random forest classificator and run model"
   ],
   "metadata": {
    "collapsed": false
   },
   "id": "29f6aeb348b22074"
  },
  {
   "cell_type": "code",
   "outputs": [],
   "source": [
    "from sklearn.ensemble import RandomForestClassifier\n",
    "rf = RandomForestClassifier(random_state=0, n_estimators=1000)\n",
    "rf.fit(X_train, y_train)\n",
    "y_pred = rf.predict(X_test)"
   ],
   "metadata": {
    "collapsed": false
   },
   "id": "286bb2de405f1b70",
   "execution_count": null
  },
  {
   "cell_type": "markdown",
   "source": [
    "Visualize result in confusion matrix"
   ],
   "metadata": {
    "collapsed": false
   },
   "id": "49b9ca67c2cf8ae7"
  },
  {
   "cell_type": "code",
   "outputs": [],
   "source": [
    "from sklearn.metrics import confusion_matrix, ConfusionMatrixDisplay\n",
    "import matplotlib.pyplot as plt\n",
    "\n",
    "cm = confusion_matrix(y_test, y_pred, labels=rf.classes_)\n",
    "disp = ConfusionMatrixDisplay(confusion_matrix=cm, display_labels=rf.classes_)\n",
    "disp.plot()\n",
    "plt.show()"
   ],
   "metadata": {
    "collapsed": false
   },
   "id": "de309d03d485d3d4",
   "execution_count": null
  }
 ],
 "metadata": {
  "kernelspec": {
   "display_name": "Python 3",
   "language": "python",
   "name": "python3"
  },
  "language_info": {
   "codemirror_mode": {
    "name": "ipython",
    "version": 2
   },
   "file_extension": ".py",
   "mimetype": "text/x-python",
   "name": "python",
   "nbconvert_exporter": "python",
   "pygments_lexer": "ipython2",
   "version": "2.7.6"
  }
 },
 "nbformat": 4,
 "nbformat_minor": 5
}
