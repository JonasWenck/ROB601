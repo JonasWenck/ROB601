{
 "cells": [
  {
   "cell_type": "markdown",
   "source": [
    "Read data"
   ],
   "metadata": {
    "collapsed": false
   },
   "id": "5443bad9a6b47a0"
  },
  {
   "cell_type": "code",
   "outputs": [],
   "source": [
    "import pandas as pd\n",
    "\n",
    "df = pd.read_csv('data/realdonaldtrump.csv', encoding='UTF-8')\n",
    "df.dtypes"
   ],
   "metadata": {
    "collapsed": false
   },
   "id": "5e1236ee03a60909",
   "execution_count": null
  },
  {
   "cell_type": "markdown",
   "source": [
    "Clean up the tweet column and write that to a new dataframe"
   ],
   "metadata": {
    "collapsed": false
   },
   "id": "2a393ba6a4a7a295"
  },
  {
   "cell_type": "code",
   "outputs": [],
   "source": [
    "import re\n",
    "\n",
    "for i in range(len(df)):\n",
    "    content_value = str(df.at[i, 'content'])\n",
    "    df.at[i, 'content'] = re.sub(r\"[^a-zA-Z0-9]+\", ' ', content_value.lower())\n",
    "    \n",
    "tweets_df_clean = df[['content']].copy()\n",
    "tweets_df_clean.head()"
   ],
   "metadata": {
    "collapsed": false
   },
   "id": "dacc87db8e07afe3",
   "execution_count": null
  },
  {
   "cell_type": "markdown",
   "source": [
    "Create histogram"
   ],
   "metadata": {
    "collapsed": false
   },
   "id": "370277fd1ae2e4b4"
  },
  {
   "cell_type": "code",
   "outputs": [],
   "source": [
    "import matplotlib.pyplot as plt\n",
    "%matplotlib inline\n",
    "import seaborn as sns\n",
    "\n",
    "plt.figure(figsize=(10,6))\n",
    "doc_lens = [len(d) for d in tweets_df_clean.content]\n",
    "plt.hist(doc_lens, bins=100)\n",
    "plt.title('Verteilung der Tweetlänge')\n",
    "plt.ylabel('Anzahl der Tweets')\n",
    "plt.xlabel('Anzahl der Zeichen pro Tweet')\n",
    "sns.despine()"
   ],
   "metadata": {
    "collapsed": false
   },
   "id": "7830c85612a7397f",
   "execution_count": null
  },
  {
   "cell_type": "markdown",
   "source": [
    "Create a word cloud"
   ],
   "metadata": {
    "collapsed": false
   },
   "id": "e933f8480fde874"
  },
  {
   "cell_type": "code",
   "outputs": [],
   "source": [
    "from wordcloud import WordCloud, STOPWORDS\n",
    "\n",
    "stopwords = set(STOPWORDS)\n",
    "wordcloud = WordCloud(background_color='white', stopwords=stopwords, max_words=500, max_font_size=40, random_state=100).generate(str(tweets_df_clean.content))\n",
    "print(wordcloud)\n",
    "fig = plt.figure(1)\n",
    "plt.imshow(wordcloud)\n",
    "plt.axis('off')\n",
    "plt.show();"
   ],
   "metadata": {
    "collapsed": false
   },
   "id": "8f0eaac309c8d956",
   "execution_count": null
  },
  {
   "cell_type": "markdown",
   "source": [
    "Perform an LDA"
   ],
   "metadata": {
    "collapsed": false
   },
   "id": "a11d0bfff6ae93dd"
  },
  {
   "cell_type": "code",
   "outputs": [],
   "source": [
    "from sklearn.feature_extraction.text import CountVectorizer\n",
    "from sklearn.decomposition import LatentDirichletAllocation\n",
    "\n",
    "vectorizer = CountVectorizer(max_df=0.95, min_df=2, max_features=1000, stop_words='english')\n",
    "tf = vectorizer.fit_transform(tweets_df_clean.content)\n",
    "tf_feature_names = vectorizer.get_feature_names_out()\n",
    "\n",
    "lda = LatentDirichletAllocation(n_components=20, max_iter=5, learning_method='online', learning_offset=50., random_state=0).fit(tf)\n",
    "\n",
    "for topic_idx, topic in enumerate(lda.components_):\n",
    "    print('Thema %d:' % topic_idx)\n",
    "    print([tf_feature_names[i] for i in topic.argsort()[:-10 - 1:-1]])"
   ],
   "metadata": {
    "collapsed": false
   },
   "id": "4c3d2678e5d8c8e4",
   "execution_count": null
  }
 ],
 "metadata": {
  "kernelspec": {
   "display_name": "Python 3",
   "language": "python",
   "name": "python3"
  },
  "language_info": {
   "codemirror_mode": {
    "name": "ipython",
    "version": 2
   },
   "file_extension": ".py",
   "mimetype": "text/x-python",
   "name": "python",
   "nbconvert_exporter": "python",
   "pygments_lexer": "ipython2",
   "version": "2.7.6"
  }
 },
 "nbformat": 4,
 "nbformat_minor": 5
}
