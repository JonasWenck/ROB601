{
 "cells": [
  {
   "cell_type": "markdown",
   "source": [
    "Load 20 newsgroup dataset but only keep half of it due to memory issues during the creation of the TD-IDF representation"
   ],
   "metadata": {
    "collapsed": false
   },
   "id": "2983c02064fa2d9"
  },
  {
   "cell_type": "code",
   "outputs": [],
   "source": [
    "from sklearn.datasets import fetch_20newsgroups\n",
    "\n",
    "dataset = fetch_20newsgroups(shuffle=True, random_state=1, remove=('headers', 'footers', 'quotes'), )\n",
    "documents = dataset.data"
   ],
   "metadata": {
    "collapsed": false
   },
   "id": "af58487268ed973d",
   "execution_count": null
  },
  {
   "cell_type": "markdown",
   "source": [
    "Create TD-IDF representation"
   ],
   "metadata": {
    "collapsed": false
   },
   "id": "e5f1912cc821390b"
  },
  {
   "cell_type": "code",
   "outputs": [],
   "source": [
    "from sklearn.feature_extraction.text import CountVectorizer\n",
    "\n",
    "vectorizer = CountVectorizer(max_df=0.95, min_df=2, max_features=1000, stop_words='english')\n",
    "tf = vectorizer.fit_transform(documents)\n",
    "tf_feature_names = vectorizer.get_feature_names_out()"
   ],
   "metadata": {
    "collapsed": false
   },
   "id": "297af9b312a8b405",
   "execution_count": null
  },
  {
   "cell_type": "markdown",
   "source": [
    "Perform LDA"
   ],
   "metadata": {
    "collapsed": false
   },
   "id": "4ebc946454b590d9"
  },
  {
   "cell_type": "code",
   "outputs": [],
   "source": [
    "from sklearn.decomposition import LatentDirichletAllocation\n",
    "lda = LatentDirichletAllocation(n_components=20, max_iter=5, learning_method='online', learning_offset=50., random_state=0).fit(tf)\n",
    "\n",
    "for topic_idx, topic in enumerate(lda.components_):\n",
    "    print('Thema %d:' % topic_idx)\n",
    "    print([tf_feature_names[i] for i in topic.argsort()[:-10 - 1:-1]])"
   ],
   "metadata": {
    "collapsed": false
   },
   "id": "357417f7bdd33507",
   "execution_count": null
  }
 ],
 "metadata": {
  "kernelspec": {
   "display_name": "Python 3",
   "language": "python",
   "name": "python3"
  },
  "language_info": {
   "codemirror_mode": {
    "name": "ipython",
    "version": 2
   },
   "file_extension": ".py",
   "mimetype": "text/x-python",
   "name": "python",
   "nbconvert_exporter": "python",
   "pygments_lexer": "ipython2",
   "version": "2.7.6"
  }
 },
 "nbformat": 4,
 "nbformat_minor": 5
}
