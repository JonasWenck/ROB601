{
 "cells": [
  {
   "cell_type": "code",
   "execution_count": null,
   "id": "initial_id",
   "metadata": {
    "collapsed": true
   },
   "outputs": [],
   "source": [
    "import pandas as pd\n",
    "\n",
    "document_a = 'Drei Ringe den Elbenkönigen hoch im Licht'\n",
    "document_b = 'Sieben den Zwergenherrschern in ihren Hallen aus Stein'\n",
    "bag_of_words_a = document_a.split(' ')\n",
    "bag_of_words_b = document_b.split(' ')\n",
    "unique_words = set(bag_of_words_a).union(set(bag_of_words_b))\n",
    "\n",
    "num_of_words_a = dict.fromkeys(unique_words, 0)\n",
    "for word in bag_of_words_a:\n",
    "    num_of_words_a[word] += 1\n",
    "    \n",
    "num_of_words_b = dict.fromkeys(unique_words, 0)\n",
    "for word in bag_of_words_b:\n",
    "    num_of_words_b[word] += 1\n",
    "\n",
    "df = pd.DataFrame([num_of_words_a, num_of_words_b], columns=list(unique_words))\n",
    "df.head()"
   ]
  },
  {
   "cell_type": "markdown",
   "source": [
    "Remove stop words"
   ],
   "metadata": {
    "collapsed": false
   },
   "id": "3613aff031f1bec2"
  },
  {
   "cell_type": "code",
   "outputs": [],
   "source": [
    "from nltk.corpus import stopwords\n",
    "import nltk\n",
    "nltk.download('stopwords')\n",
    "german_stop_words = stopwords.words('german')\n",
    "\n",
    "df.drop(german_stop_words, inplace=True, errors='ignore', axis=1)\n",
    "df.head()"
   ],
   "metadata": {
    "collapsed": false
   },
   "id": "deb7f8560638e24e",
   "execution_count": null
  },
  {
   "cell_type": "markdown",
   "source": [
    "Use TF-IDF"
   ],
   "metadata": {
    "collapsed": false
   },
   "id": "d695083ae3a39b6e"
  },
  {
   "cell_type": "code",
   "outputs": [],
   "source": [
    "from sklearn.feature_extraction.text import TfidfVectorizer\n",
    "\n",
    "vectorizer = TfidfVectorizer()\n",
    "vectors = vectorizer.fit_transform([document_a, document_b])\n",
    "feature_names = vectorizer.get_feature_names_out()\n",
    "dense = vectors.todense()\n",
    "denselist = dense.tolist()\n",
    "td_idf_df = pd.DataFrame(dense, columns=feature_names)\n",
    "td_idf_df.head()"
   ],
   "metadata": {
    "collapsed": false
   },
   "id": "392be0b7e8f0efee",
   "execution_count": null
  }
 ],
 "metadata": {
  "kernelspec": {
   "display_name": "Python 3",
   "language": "python",
   "name": "python3"
  },
  "language_info": {
   "codemirror_mode": {
    "name": "ipython",
    "version": 2
   },
   "file_extension": ".py",
   "mimetype": "text/x-python",
   "name": "python",
   "nbconvert_exporter": "python",
   "pygments_lexer": "ipython2",
   "version": "2.7.6"
  }
 },
 "nbformat": 4,
 "nbformat_minor": 5
}
