{
 "cells": [
  {
   "cell_type": "markdown",
   "source": [
    "Load data"
   ],
   "metadata": {
    "collapsed": false
   },
   "id": "28121b94a5c89831"
  },
  {
   "cell_type": "code",
   "outputs": [],
   "source": [
    "import pandas as pd\n",
    "from sklearn.preprocessing import StandardScaler\n",
    "\n",
    "train = pd.read_csv('data/loan_train.csv')\n",
    "train.dtypes"
   ],
   "metadata": {
    "collapsed": false
   },
   "id": "e5945eb7d6cf7098",
   "execution_count": null
  },
  {
   "cell_type": "markdown",
   "source": [
    "Create training and test data"
   ],
   "metadata": {
    "collapsed": false
   },
   "id": "cdc22f4d55da6470"
  },
  {
   "cell_type": "code",
   "outputs": [],
   "source": [
    "from sklearn.model_selection import train_test_split\n",
    "X = train.drop('Loan_Status', axis=1)\n",
    "y = train['Loan_Status']\n",
    "X_train, X_test, y_train, y_test = train_test_split(X, y, test_size=0.2)"
   ],
   "metadata": {
    "collapsed": false
   },
   "id": "4702602583e71672",
   "execution_count": null
  },
  {
   "cell_type": "markdown",
   "source": [
    "Define a pipeline"
   ],
   "metadata": {
    "collapsed": false
   },
   "id": "f2cd357441f5988f"
  },
  {
   "cell_type": "code",
   "outputs": [],
   "source": [
    "from sklearn.pipeline import Pipeline\n",
    "from sklearn.impute import SimpleImputer\n",
    "from sklearn.preprocessing import OneHotEncoder\n",
    "# replace missing numerical values with median value for that column\n",
    "numerical_transformer = Pipeline(steps=[('imputer', SimpleImputer(strategy='median')), ('scaler', StandardScaler())])\n",
    "# replace missing categorical values with the 'missing' string\n",
    "categorical_transformer = Pipeline(steps=[('imputer', SimpleImputer(strategy='constant', fill_value='missing')),('one-hot-encoder', OneHotEncoder(handle_unknown='ignore'))])"
   ],
   "metadata": {
    "collapsed": false
   },
   "id": "4d96ce4187c2faa5",
   "execution_count": null
  },
  {
   "cell_type": "markdown",
   "source": [
    "Combine the preprocessors and divide column into numeric and categorical variables"
   ],
   "metadata": {
    "collapsed": false
   },
   "id": "cc77dd3287bb6e05"
  },
  {
   "cell_type": "code",
   "outputs": [],
   "source": [
    "from sklearn.compose import ColumnTransformer\n",
    "\n",
    "numeric_features = train.select_dtypes(include=['int64','float64']).columns\n",
    "categorical_features = train.select_dtypes(include=['object']).drop(['Loan_Status'], axis=1).columns\n",
    "preprocessor = ColumnTransformer(transformers=[('num', numerical_transformer, numeric_features), ('cat', categorical_transformer, categorical_features)])"
   ],
   "metadata": {
    "collapsed": false
   },
   "id": "e1bd18c60157f374",
   "execution_count": null
  },
  {
   "cell_type": "markdown",
   "source": [
    "Create pipeline with preprocessor and random forest classificator"
   ],
   "metadata": {
    "collapsed": false
   },
   "id": "491a051681e5691a"
  },
  {
   "cell_type": "code",
   "outputs": [],
   "source": [
    "from sklearn.ensemble import RandomForestClassifier\n",
    "model = Pipeline(steps=[('preprocessor', preprocessor), ('classifier', RandomForestClassifier(random_state=0))])"
   ],
   "metadata": {
    "collapsed": false
   },
   "id": "991e70751c80e41",
   "execution_count": null
  },
  {
   "cell_type": "markdown",
   "source": [
    "Train the classifier and print the accuracy score"
   ],
   "metadata": {
    "collapsed": false
   },
   "id": "92141894c18e7684"
  },
  {
   "cell_type": "code",
   "outputs": [],
   "source": [
    "from sklearn.metrics import accuracy_score\n",
    "model.fit(X_train, y_train)\n",
    "y_pred = model.predict(X_test)\n",
    "accuracy_score(y_test, y_pred)"
   ],
   "metadata": {
    "collapsed": false
   },
   "id": "a6695ba922340a2b",
   "execution_count": null
  }
 ],
 "metadata": {
  "kernelspec": {
   "display_name": "Python 3",
   "language": "python",
   "name": "python3"
  },
  "language_info": {
   "codemirror_mode": {
    "name": "ipython",
    "version": 2
   },
   "file_extension": ".py",
   "mimetype": "text/x-python",
   "name": "python",
   "nbconvert_exporter": "python",
   "pygments_lexer": "ipython2",
   "version": "2.7.6"
  }
 },
 "nbformat": 4,
 "nbformat_minor": 5
}
