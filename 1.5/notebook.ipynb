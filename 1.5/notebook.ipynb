{
 "cells": [
  {
   "cell_type": "markdown",
   "source": [
    "Read bike data"
   ],
   "metadata": {
    "collapsed": false
   },
   "id": "7e206c3540437934"
  },
  {
   "cell_type": "code",
   "outputs": [],
   "source": [
    "import pandas as pd\n",
    "import seaborn as sns\n",
    "import matplotlib.pyplot as plt\n",
    "%matplotlib inline\n",
    "\n",
    "df = pd.read_csv('data/bike.csv')\n",
    "df.head()"
   ],
   "metadata": {
    "collapsed": false
   },
   "id": "f2ae3ac346437f3d",
   "execution_count": null
  },
  {
   "cell_type": "markdown",
   "source": [
    "Create histograms for all numeric variables"
   ],
   "metadata": {
    "collapsed": false
   },
   "id": "7672d95097614886"
  },
  {
   "cell_type": "code",
   "outputs": [],
   "source": [
    "df.hist(bins=10, figsize=(20,15))\n",
    "plt.tight_layout()\n",
    "plt.show()"
   ],
   "metadata": {
    "collapsed": false
   },
   "id": "9be7cfd4011f5275",
   "execution_count": null
  },
  {
   "cell_type": "markdown",
   "source": [
    "Create a heat map to visualize the interdependencies between numeric variables"
   ],
   "metadata": {
    "collapsed": false
   },
   "id": "a05444b9fac273c5"
  },
  {
   "cell_type": "code",
   "outputs": [],
   "source": [
    "plt.figure(figsize=(10,5))\n",
    "corr=df.corr(numeric_only=True)\n",
    "sns.heatmap(corr, cmap='BrBG', annot=True)"
   ],
   "metadata": {
    "collapsed": false
   },
   "id": "fb6b53159ab1c824",
   "execution_count": null
  },
  {
   "cell_type": "markdown",
   "source": [
    "Boxplot for the weekday and the amount of hours for each weekday"
   ],
   "metadata": {
    "collapsed": false
   },
   "id": "fbb50adb194dcd3e"
  },
  {
   "cell_type": "code",
   "outputs": [],
   "source": [
    "plt.figure(figsize=(12, 6))\n",
    "boxplot = df.boxplot(column=['hr'], by='weekday')\n",
    "\n",
    "plt.xlabel('Weekday')\n",
    "plt.ylabel('hours')\n",
    "plt.show()"
   ],
   "metadata": {
    "collapsed": false
   },
   "id": "a344b79e98d9e683",
   "execution_count": null
  },
  {
   "cell_type": "markdown",
   "source": [
    "Find out if data is missing (answer: no)"
   ],
   "metadata": {
    "collapsed": false
   },
   "id": "c076b2c7496bf435"
  },
  {
   "cell_type": "code",
   "outputs": [],
   "source": [
    "print(df.isnull().sum())"
   ],
   "metadata": {
    "collapsed": false
   },
   "id": "b13aac8a4ae1b378",
   "execution_count": null
  },
  {
   "cell_type": "markdown",
   "source": [
    "Visualize outliers in the column \"cnt\""
   ],
   "metadata": {
    "collapsed": false
   },
   "id": "467fc42113c1117"
  },
  {
   "cell_type": "code",
   "outputs": [],
   "source": [
    "sns.boxplot(x=df['cnt'])"
   ],
   "metadata": {
    "collapsed": false
   },
   "id": "c187ab932b5da690",
   "execution_count": null
  },
  {
   "cell_type": "markdown",
   "source": [
    "Use 'power transform' method to make data appear more normally distributed, remove column 'dteday' and save that data frame to new variable"
   ],
   "metadata": {
    "collapsed": false
   },
   "id": "2dd057d05e27659f"
  },
  {
   "cell_type": "code",
   "outputs": [],
   "source": [
    "from sklearn.preprocessing import PowerTransformer\n",
    "df.drop('dteday', axis=1, inplace=True)\n",
    "pt = PowerTransformer()\n",
    "transformed_data = pt.fit_transform(df)\n",
    "df_new = pd.DataFrame(transformed_data, columns=df.columns)\n",
    "df_new.head()"
   ],
   "metadata": {
    "collapsed": false
   },
   "id": "ff9351bab4718467",
   "execution_count": null
  },
  {
   "cell_type": "markdown",
   "source": [
    "Create training and test data with 'cnt' as the variable to predict "
   ],
   "metadata": {
    "collapsed": false
   },
   "id": "cc953d4955517ccf"
  },
  {
   "cell_type": "code",
   "outputs": [],
   "source": [
    "from sklearn.model_selection import train_test_split\n",
    "# variables without 'cnt'\n",
    "X = df_new.drop('cnt', axis=1)\n",
    "# target variable\n",
    "y = df_new['cnt']\n",
    "X_train, X_test, y_train, y_test = train_test_split(X, y, test_size=0.33, random_state=42)"
   ],
   "metadata": {
    "collapsed": false
   },
   "id": "7775613bca380762",
   "execution_count": null
  },
  {
   "cell_type": "markdown",
   "source": [
    "Perform linear regression with R2-metric"
   ],
   "metadata": {
    "collapsed": false
   },
   "id": "e0cd0d1575315be4"
  },
  {
   "cell_type": "code",
   "outputs": [],
   "source": [
    "from sklearn.linear_model import LinearRegression\n",
    "from sklearn.metrics import r2_score\n",
    "model = LinearRegression()\n",
    "# train model on the training data\n",
    "model.fit(X_train, y_train)\n",
    "# predict with the test data\n",
    "y_pred = model.predict(X_test)\n",
    "# compare the predictions with the test labels\n",
    "r2 = r2_score(y_test, y_pred)\n",
    "print('R2-Score: ', r2)"
   ],
   "metadata": {
    "collapsed": false
   },
   "id": "3a6179032b1dfd03",
   "execution_count": null
  }
 ],
 "metadata": {
  "kernelspec": {
   "display_name": "Python 3",
   "language": "python",
   "name": "python3"
  },
  "language_info": {
   "codemirror_mode": {
    "name": "ipython",
    "version": 2
   },
   "file_extension": ".py",
   "mimetype": "text/x-python",
   "name": "python",
   "nbconvert_exporter": "python",
   "pygments_lexer": "ipython2",
   "version": "2.7.6"
  }
 },
 "nbformat": 4,
 "nbformat_minor": 5
}
