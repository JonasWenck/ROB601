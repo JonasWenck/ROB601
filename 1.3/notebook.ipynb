{
 "cells": [
  {
   "cell_type": "markdown",
   "source": [
    "Import car file"
   ],
   "metadata": {
    "collapsed": false
   },
   "id": "536738e716b1572c"
  },
  {
   "cell_type": "code",
   "outputs": [],
   "source": [
    "import pandas as pd\n",
    "import numpy as np\n",
    "import seaborn as sns\n",
    "import matplotlib.pyplot as plt\n",
    "%matplotlib inline\n",
    "\n",
    "df = pd.read_csv('data/auto.csv')\n",
    "df.head()"
   ],
   "metadata": {
    "collapsed": true
   },
   "id": "initial_id",
   "execution_count": null
  },
  {
   "cell_type": "markdown",
   "source": [
    "Print column types"
   ],
   "metadata": {
    "collapsed": false
   },
   "id": "c42773f216814b36"
  },
  {
   "cell_type": "code",
   "outputs": [],
   "source": [
    "df.dtypes"
   ],
   "metadata": {
    "collapsed": false
   },
   "id": "6ebd1cdb9b924e77",
   "execution_count": null
  },
  {
   "cell_type": "markdown",
   "source": [
    "Drop unwanted columns"
   ],
   "metadata": {
    "collapsed": false
   },
   "id": "2c36e9a78e18a65d"
  },
  {
   "cell_type": "code",
   "outputs": [],
   "source": [
    "df.drop('Engine Fuel Type', axis=1, inplace=True)\n",
    "df.drop('Market Category', axis=1, inplace=True)\n",
    "df.drop('Vehicle Style', axis=1, inplace=True)\n",
    "df.drop('Popularity', axis=1, inplace=True)\n",
    "df.drop('Number of Doors', axis=1, inplace=True)\n",
    "df.drop('Vehicle Size', axis=1, inplace=True)\n",
    "df.head()"
   ],
   "metadata": {
    "collapsed": false
   },
   "id": "f073a19f19404fb2",
   "execution_count": null
  },
  {
   "cell_type": "markdown",
   "source": [
    "Renamed columns"
   ],
   "metadata": {
    "collapsed": false
   },
   "id": "f1cc865353f2bd51"
  },
  {
   "cell_type": "code",
   "outputs": [],
   "source": [
    "df = df.rename(columns={'Engine HP': 'HP', 'Engine Cylinders': 'Cylinders', 'Transmission Type': 'Transmission', 'Driven_Wheels': 'Drive Mode', 'highway MPG': 'MPG-H', 'city mpg': 'MPG-C', 'MSRP': 'Price'})\n",
    "df.head()"
   ],
   "metadata": {
    "collapsed": false
   },
   "id": "fee847d87ef1c19a",
   "execution_count": null
  },
  {
   "cell_type": "markdown",
   "source": [
    "Remove duplicates"
   ],
   "metadata": {
    "collapsed": false
   },
   "id": "5c90eac8b89b2f62"
  },
  {
   "cell_type": "code",
   "outputs": [],
   "source": [
    "duplicate_rows_df = df[df.duplicated()]\n",
    "print('Amount of duplicate rows (duplicate rows, columns): ', duplicate_rows_df.shape)\n",
    "df = df.drop_duplicates()"
   ],
   "metadata": {
    "collapsed": false
   },
   "id": "8b59d7eeccfa46bb",
   "execution_count": null
  },
  {
   "cell_type": "markdown",
   "source": [
    "Drop columns with missing values"
   ],
   "metadata": {
    "collapsed": false
   },
   "id": "4865bf9aa0aaa420"
  },
  {
   "cell_type": "code",
   "outputs": [],
   "source": [
    "print(df.isnull().sum())\n",
    "df = df.dropna()"
   ],
   "metadata": {
    "collapsed": false
   },
   "id": "12114bf880c03fa1",
   "execution_count": null
  },
  {
   "cell_type": "markdown",
   "source": [
    "Visualize outliers"
   ],
   "metadata": {
    "collapsed": false
   },
   "id": "582fd19dfbbf92ce"
  },
  {
   "cell_type": "code",
   "outputs": [],
   "source": [
    "sns.boxplot(x=df['Price'])"
   ],
   "metadata": {
    "collapsed": false
   },
   "id": "11bc94b722f3a2b3",
   "execution_count": null
  },
  {
   "cell_type": "markdown",
   "source": [
    "Remove outliers (but only in numeric columns, otherwise we get an error)"
   ],
   "metadata": {
    "collapsed": false
   },
   "id": "6fac0196d1a86886"
  },
  {
   "cell_type": "code",
   "outputs": [],
   "source": [
    "numeric_cols = df.select_dtypes(include=[np.number]).columns\n",
    "\n",
    "Q1 = df[numeric_cols].quantile(q=0.25)\n",
    "Q3 = df[numeric_cols].quantile(q=0.75)\n",
    "IQR = Q3 - Q1\n",
    "df = df[~((df[numeric_cols] < (Q1 - 1.5 * IQR)) | (df[numeric_cols] > (Q3 + 1.5 * IQR))).any(axis=1)]"
   ],
   "metadata": {
    "collapsed": false
   },
   "id": "80829ea2e093fc1e",
   "execution_count": null
  },
  {
   "cell_type": "markdown",
   "source": [
    "Visualize the brand with the most cars"
   ],
   "metadata": {
    "collapsed": false
   },
   "id": "9fd8acd2965c91ce"
  },
  {
   "cell_type": "code",
   "outputs": [],
   "source": [
    "df.Make.value_counts().nlargest(20).plot(kind='bar', figsize=(10,5))\n",
    "plt.title('Amount of cars for each brand')\n",
    "plt.ylabel('Amount of cars')\n",
    "plt.xlabel('Brand')"
   ],
   "metadata": {
    "collapsed": false
   },
   "id": "ef6a846ce1e506a",
   "execution_count": null
  },
  {
   "cell_type": "markdown",
   "source": [
    "Create a heat map to visualize the variable dependencies (again, only for numeric columns!)"
   ],
   "metadata": {
    "collapsed": false
   },
   "id": "5183a8615302cb7c"
  },
  {
   "cell_type": "code",
   "outputs": [],
   "source": [
    "plt.figure(figsize=(10,5))\n",
    "corr=df.corr(numeric_only=True)\n",
    "sns.heatmap(corr, cmap='BrBG', annot=True)"
   ],
   "metadata": {
    "collapsed": false
   },
   "id": "7ef20a86b1fae287",
   "execution_count": null
  },
  {
   "cell_type": "markdown",
   "source": [
    "Create a scatter plot to show that the price raises for cars with higher HP (horse power)"
   ],
   "metadata": {
    "collapsed": false
   },
   "id": "3694b774e3112692"
  },
  {
   "cell_type": "code",
   "outputs": [],
   "source": [
    "fig, ax = plt.subplots(figsize=(10,6))\n",
    "ax.scatter(df['HP'], df['Price'])\n",
    "ax.set_xlabel('HP')\n",
    "ax.set_ylabel('Price')\n",
    "plt.show()"
   ],
   "metadata": {
    "collapsed": false
   },
   "id": "91297a97eba70fe1",
   "execution_count": null
  }
 ],
 "metadata": {
  "kernelspec": {
   "display_name": "Python 3",
   "language": "python",
   "name": "python3"
  },
  "language_info": {
   "codemirror_mode": {
    "name": "ipython",
    "version": 2
   },
   "file_extension": ".py",
   "mimetype": "text/x-python",
   "name": "python",
   "nbconvert_exporter": "python",
   "pygments_lexer": "ipython2",
   "version": "2.7.6"
  }
 },
 "nbformat": 4,
 "nbformat_minor": 5
}
