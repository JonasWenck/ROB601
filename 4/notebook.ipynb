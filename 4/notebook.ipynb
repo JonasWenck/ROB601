{
 "cells": [
  {
   "cell_type": "markdown",
   "source": [
    "Read the data"
   ],
   "metadata": {
    "collapsed": false
   },
   "id": "3a59d0e9955dadd2"
  },
  {
   "cell_type": "code",
   "outputs": [],
   "source": [
    "import pandas as pd\n",
    "\n",
    "df = pd.read_csv('data/epileptic.csv')\n",
    "df.head()"
   ],
   "metadata": {
    "collapsed": false
   },
   "id": "eda68c5fe36efc3f",
   "execution_count": null
  },
  {
   "cell_type": "markdown",
   "source": [
    "Drop column_a"
   ],
   "metadata": {
    "collapsed": false
   },
   "id": "bee4a6e940dc56f6"
  },
  {
   "cell_type": "code",
   "outputs": [],
   "source": [
    "df.drop('column_a', axis=1, inplace=True)"
   ],
   "metadata": {
    "collapsed": false
   },
   "id": "2910ea528c7366a8",
   "execution_count": null
  },
  {
   "cell_type": "markdown",
   "source": [
    "Transform y into binary variable and use mean for missing values"
   ],
   "metadata": {
    "collapsed": false
   },
   "id": "ef29faafae846612"
  },
  {
   "cell_type": "code",
   "outputs": [],
   "source": [
    "for i in range(len(df)):\n",
    "    if df.iloc[i]['y'] != 1:\n",
    "        df.at[i, 'y'] = 0\n",
    "df = df.fillna(df.mean())\n",
    "df.head()"
   ],
   "metadata": {
    "collapsed": false
   },
   "id": "3c1232b550e8370",
   "execution_count": null
  },
  {
   "cell_type": "markdown",
   "source": [
    "Create X and y"
   ],
   "metadata": {
    "collapsed": false
   },
   "id": "e8dde2a239d97239"
  },
  {
   "cell_type": "code",
   "outputs": [],
   "source": [
    "X = df.drop('y', axis=1)\n",
    "y = df.y"
   ],
   "metadata": {
    "collapsed": false
   },
   "id": "d69fb0493bde4de3",
   "execution_count": null
  },
  {
   "cell_type": "markdown",
   "source": [
    "Create bar chart for y"
   ],
   "metadata": {
    "collapsed": false
   },
   "id": "4cad0e6a36839cc2"
  },
  {
   "cell_type": "code",
   "outputs": [],
   "source": [
    "import matplotlib.pyplot as plt\n",
    "%matplotlib inline\n",
    "\n",
    "y.value_counts().plot(kind='bar')\n",
    "plt.xticks([0,1], ['Kein Anfall', 'Anfall'])\n",
    "plt.ylabel('Anzahl')"
   ],
   "metadata": {
    "collapsed": false
   },
   "id": "615479c16364d496",
   "execution_count": null
  },
  {
   "cell_type": "markdown",
   "source": [
    "Transform all independent variables"
   ],
   "metadata": {
    "collapsed": false
   },
   "id": "2f79fbfc0aa8e58d"
  },
  {
   "cell_type": "code",
   "outputs": [],
   "source": [
    "from sklearn.preprocessing import StandardScaler\n",
    "\n",
    "scaler = StandardScaler()\n",
    "X = scaler.fit_transform(X)"
   ],
   "metadata": {
    "collapsed": false
   },
   "id": "c8ef1f97c9e52206",
   "execution_count": null
  },
  {
   "cell_type": "markdown",
   "source": [
    "Create a simple PCA"
   ],
   "metadata": {
    "collapsed": false
   },
   "id": "3c0a1520e2cc7151"
  },
  {
   "cell_type": "code",
   "outputs": [],
   "source": [
    "from sklearn.decomposition import PCA\n",
    "\n",
    "pca = PCA(n_components=2)\n",
    "components = pca.fit_transform(X)"
   ],
   "metadata": {
    "collapsed": false
   },
   "id": "c98d1b9b19779a2a",
   "execution_count": null
  },
  {
   "cell_type": "markdown",
   "source": [
    "Create scatter diagram"
   ],
   "metadata": {
    "collapsed": false
   },
   "id": "6ee7b293b151985"
  },
  {
   "cell_type": "code",
   "outputs": [],
   "source": [
    "import numpy as np\n",
    "plt.figure(figsize=(8, 6))\n",
    "classes = np.unique(y)\n",
    "\n",
    "for i, c in enumerate(classes):\n",
    "    plt.scatter(components[y == c, 0], components[y == c, 1], label=c)\n",
    "\n",
    "plt.xlabel('Komponente 1')\n",
    "plt.ylabel('Komponente 2')\n",
    "plt.legend()\n",
    "plt.show()"
   ],
   "metadata": {
    "collapsed": false
   },
   "id": "df37fd56017d7e46",
   "execution_count": null
  }
 ],
 "metadata": {
  "kernelspec": {
   "display_name": "Python 3",
   "language": "python",
   "name": "python3"
  },
  "language_info": {
   "codemirror_mode": {
    "name": "ipython",
    "version": 2
   },
   "file_extension": ".py",
   "mimetype": "text/x-python",
   "name": "python",
   "nbconvert_exporter": "python",
   "pygments_lexer": "ipython2",
   "version": "2.7.6"
  }
 },
 "nbformat": 4,
 "nbformat_minor": 5
}
