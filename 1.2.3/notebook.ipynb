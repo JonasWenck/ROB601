{
 "cells": [
  {
   "cell_type": "markdown",
   "source": [
    "Fetch picture of the day response from API"
   ],
   "metadata": {
    "collapsed": false
   },
   "id": "8e173c2e84c0ef3b"
  },
  {
   "cell_type": "code",
   "outputs": [],
   "source": [
    "import requests\n",
    "\n",
    "payload = {'api_key': 'DEMO_API_KEY'}\n",
    "r = requests.get('https://api.nasa.gov/planetary/apod?api_key=DEMO_KEY', params=payload)\n",
    "response_json = r.json()\n",
    "url = response_json['url']"
   ],
   "metadata": {
    "collapsed": true
   },
   "id": "initial_id",
   "execution_count": null
  },
  {
   "cell_type": "markdown",
   "source": [
    "Download the picture file"
   ],
   "metadata": {
    "collapsed": false
   },
   "id": "83eb91cad6c8c156"
  },
  {
   "cell_type": "code",
   "outputs": [],
   "source": [
    "import wget\n",
    "filename=wget.download(url, out='1.2.3_API\\data')"
   ],
   "metadata": {
    "collapsed": false
   },
   "id": "2dde2ab1c30ee0cf",
   "execution_count": null
  },
  {
   "cell_type": "markdown",
   "source": [
    "Visualize the picture"
   ],
   "metadata": {
    "collapsed": false
   },
   "id": "28505d89c39604e7"
  },
  {
   "cell_type": "code",
   "outputs": [],
   "source": [
    "import matplotlib.pyplot as plt\n",
    "import matplotlib.image as mpimg\n",
    "\n",
    "img = mpimg.imread(filename)\n",
    "imgplot = plt.imshow(img)\n",
    "plt.show()"
   ],
   "metadata": {
    "collapsed": false
   },
   "id": "778b91b9e72f31b7",
   "execution_count": null
  }
 ],
 "metadata": {
  "kernelspec": {
   "display_name": "Python 3",
   "language": "python",
   "name": "python3"
  },
  "language_info": {
   "codemirror_mode": {
    "name": "ipython",
    "version": 2
   },
   "file_extension": ".py",
   "mimetype": "text/x-python",
   "name": "python",
   "nbconvert_exporter": "python",
   "pygments_lexer": "ipython2",
   "version": "2.7.6"
  }
 },
 "nbformat": 4,
 "nbformat_minor": 5
}
